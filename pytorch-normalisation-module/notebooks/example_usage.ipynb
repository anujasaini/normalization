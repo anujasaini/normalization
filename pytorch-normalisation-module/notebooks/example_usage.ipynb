{
 "cells": [
  {
   "cell_type": "markdown",
   "metadata": {},
   "source": [
    "##### Pytorch Implementation"
   ]
  },
  {
   "cell_type": "code",
   "execution_count": 12,
   "metadata": {},
   "outputs": [],
   "source": [
    "import sys\n",
    "sys.path.append('../src')\n",
    "\n",
    "import torch\n",
    "from normalization import NormalizationModule"
   ]
  },
  {
   "cell_type": "code",
   "execution_count": 18,
   "metadata": {},
   "outputs": [],
   "source": [
    "# Generate 10 random input samples\n",
    "input_samples = torch.randn(10, 5)\n",
    "\n",
    "# Create an instance of the NormalizationModule\n",
    "module = NormalizationModule(input_size=5, output_size=3)\n",
    "\n",
    "# Perform the forward pass\n",
    "output_samples = module.forward(input_samples)"
   ]
  },
  {
   "cell_type": "code",
   "execution_count": 19,
   "metadata": {},
   "outputs": [],
   "source": [
    "# Save the input and output samples\n",
    "torch.save(input_samples, '../data/input_samples.pt')\n",
    "torch.save(output_samples, '../data/output_samples.pt')"
   ]
  },
  {
   "cell_type": "code",
   "execution_count": 20,
   "metadata": {},
   "outputs": [
    {
     "name": "stdout",
     "output_type": "stream",
     "text": [
      "Input shape: torch.Size([10, 5])\n",
      "Output shape: torch.Size([10, 3])\n"
     ]
    }
   ],
   "source": [
    "# Print the shapes of the input and output tensors\n",
    "print(f\"Input shape: {input_samples.shape}\")\n",
    "print(f\"Output shape: {output_samples.shape}\")"
   ]
  }
 ],
 "metadata": {
  "kernelspec": {
   "display_name": "sanas",
   "language": "python",
   "name": "python3"
  },
  "language_info": {
   "codemirror_mode": {
    "name": "ipython",
    "version": 3
   },
   "file_extension": ".py",
   "mimetype": "text/x-python",
   "name": "python",
   "nbconvert_exporter": "python",
   "pygments_lexer": "ipython3",
   "version": "3.12.4"
  }
 },
 "nbformat": 4,
 "nbformat_minor": 2
}
